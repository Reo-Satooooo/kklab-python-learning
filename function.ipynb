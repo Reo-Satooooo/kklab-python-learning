{
  "nbformat": 4,
  "nbformat_minor": 0,
  "metadata": {
    "colab": {
      "name": "function.ipynb",
      "provenance": []
    },
    "kernelspec": {
      "name": "python3",
      "display_name": "Python 3"
    },
    "language_info": {
      "name": "python"
    }
  },
  "cells": [
    {
      "cell_type": "markdown",
      "source": [
        "研究室勉強会(Python編・関数)"
      ],
      "metadata": {
        "id": "dWZh_4s9tvS5"
      }
    },
    {
      "cell_type": "code",
      "source": [
        "# 例題1:トランプの山札カードを作成し、ランダムにシャッフルする関数prepare_cardを作成する\n",
        "import random\n",
        "\n",
        "def prepare_card():\n",
        "  symbol_list = ['C','D','S','H']\n",
        "  number_list = [1,2,3,4,5,6,7,8,9,10,11,12,13]\n",
        "  card_list = []\n",
        "  for symbol in symbol_list:\n",
        "    for number in range(1,14):\n",
        "      if number == 1:\n",
        "        card = symbol +'A'\n",
        "      elif number == 11:\n",
        "        card = symbol +'J'\n",
        "      elif number == 12:\n",
        "        card = symbol +'Q'\n",
        "      elif number == 13:\n",
        "        card = symbol +'K'\n",
        "      else:\n",
        "        card = symbol + str(number)\n",
        "      card_list.append(card)\n",
        "  number_list4 = number_list*4\n",
        "  card_dict = dict(zip(card_list,number_list4))\n",
        "  random.shuffle(card_list)\n",
        "  return card_list"
      ],
      "metadata": {
        "id": "DcxMnitCvn_2"
      },
      "execution_count": 7,
      "outputs": []
    },
    {
      "cell_type": "code",
      "source": [
        "# 課題１:整数値を入力し、その枚数分手札を集め、表示するプログラムを作成しなさい\n",
        "n = int(input())\n",
        "myCard = []\n",
        "\n",
        "def card_draw():\n",
        "  cards = prepare_card()\n",
        "  return cards.pop(0)\n",
        "\n",
        "for num in range(0,n):\n",
        "  myCard.append(card_draw())\n",
        "\n",
        "for num in range(0,n):\n",
        "  print('Card {0} is {1}'.format(num+1,myCard[num]))"
      ],
      "metadata": {
        "id": "xXlGDjZmwy0Z",
        "colab": {
          "base_uri": "https://localhost:8080/"
        },
        "outputId": "9fe4fc3a-7267-42f8-f977-7ea3be98f60c"
      },
      "execution_count": 8,
      "outputs": [
        {
          "output_type": "stream",
          "name": "stdout",
          "text": [
            "5\n",
            "Card 1 is S4\n",
            "Card 2 is S6\n",
            "Card 3 is DK\n",
            "Card 4 is C3\n",
            "Card 5 is D10\n"
          ]
        }
      ]
    },
    {
      "cell_type": "code",
      "source": [
        "# 課題2:n枚の手札のうち番号を指定し、その番号の手札を交換するプログラムを作成する\n",
        "n_list = []\n",
        "while True:\n",
        "  n = int(input())\n",
        "  if n == 0:\n",
        "    break\n",
        "  elif n>len(myCard):\n",
        "    continue\n",
        "  n_list.append(n)\n",
        "\n",
        "for num in range(0,len(n_list)):\n",
        "  draw = card_draw()\n",
        "  myCard[n_list[num]-1] = draw\n",
        "\n",
        "for num in range(0,len(myCard)):  \n",
        "  print('Card {0} is {1}'.format(num+1,myCard[num]))"
      ],
      "metadata": {
        "colab": {
          "base_uri": "https://localhost:8080/"
        },
        "id": "7g8AyG_wy83M",
        "outputId": "dd2830fa-0b58-4bdd-cf4c-d71416c3380b"
      },
      "execution_count": null,
      "outputs": [
        {
          "name": "stdout",
          "output_type": "stream",
          "text": [
            "5\n",
            "1\n",
            "0\n"
          ]
        }
      ]
    },
    {
      "cell_type": "code",
      "source": [
        "# 課題3:課題2の関数を改良し、反復的に値が変更可能な形にする（再帰関数化）\n",
        "def changeCards():\n",
        "  n_list = []\n",
        "  while True:\n",
        "    n = int(input())\n",
        "    if n == 0:\n",
        "      break\n",
        "    elif n>len(myCard):\n",
        "      continue\n",
        "    n_list.append(n)\n",
        "  \n",
        "  for num in range(0,len(n_list)):\n",
        "    draw = card_draw()\n",
        "    myCard[n_list[num]-1] = draw\n",
        "\n",
        "  for num in range(0,len(myCard)):  \n",
        "    print('Card {0} is {1}'.format(num+1,myCard[num]))\n",
        "\n",
        "print(\"Game Start\")\n",
        "while True:\n",
        "  changeCards()\n",
        "  print(\"Game Continue:0 Game End:1\")\n",
        "  m = int(input())\n",
        "  if m == 0:\n",
        "    continue\n",
        "  elif m == 1:\n",
        "    break\n",
        "  else:\n",
        "    break"
      ],
      "metadata": {
        "colab": {
          "base_uri": "https://localhost:8080/"
        },
        "id": "nKjdaw6j6xXV",
        "outputId": "fecd77a9-0dac-497e-ede1-81262c232b5c"
      },
      "execution_count": 9,
      "outputs": [
        {
          "name": "stdout",
          "output_type": "stream",
          "text": [
            "Game Start\n",
            "2\n",
            "3\n",
            "0\n",
            "Card 1 is S4\n",
            "Card 2 is HK\n",
            "Card 3 is DA\n",
            "Card 4 is C3\n",
            "Card 5 is D10\n",
            "Game Continue:0 Game End:1\n",
            "0\n",
            "2\n",
            "3\n",
            "0\n",
            "Card 1 is S4\n",
            "Card 2 is D8\n",
            "Card 3 is C4\n",
            "Card 4 is C3\n",
            "Card 5 is D10\n",
            "Game Continue:0 Game End:1\n",
            "1\n"
          ]
        }
      ]
    }
  ]
}